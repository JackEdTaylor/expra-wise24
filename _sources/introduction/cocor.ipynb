{
 "cells": [
  {
   "cell_type": "markdown",
   "id": "34e9fb44",
   "metadata": {},
   "source": [
    "# Comparing Correlations\n",
    "\n",
    "Several groups have designs where they want to compare correlations. For example, you might be asking, \"is the correlation between item norms for group A and B larger for CLMM estimates than for LMM estimates?\"\n",
    "\n",
    "Here's a quick example showing how to calculate this..."
   ]
  },
  {
   "cell_type": "code",
   "execution_count": 1,
   "id": "d1fd0ca8",
   "metadata": {
    "tags": [
     "remove-input"
    ],
    "vscode": {
     "languageId": "r"
    }
   },
   "outputs": [],
   "source": [
    "options(repr.plot.width=4, repr.plot.height=3.5)"
   ]
  },
  {
   "cell_type": "markdown",
   "id": "b5d3e1ab",
   "metadata": {},
   "source": [
    "Imagine we have the following data, with estimates for group A and group B, from an LMM (`lmer()`) and a CLMM (`clmm`).\n",
    "\n",
    "(I think these data are organised similarly to all the groups I talked to, but let me know if not!)"
   ]
  },
  {
   "cell_type": "code",
   "execution_count": 3,
   "id": "8bf6fb1a",
   "metadata": {
    "tags": [
     "remove-input",
     "remove-output"
    ],
    "vscode": {
     "languageId": "r"
    }
   },
   "outputs": [],
   "source": [
    "library(dplyr)\n",
    "library(tidyr)\n",
    "library(readr)\n",
    "library(faux)\n",
    "set.seed(42)\n",
    "\n",
    "results_wide <- rnorm_multi(\n",
    "    n = 100,\n",
    "    vars = 4,\n",
    "    mu = c(3, 3, 0, 0),\n",
    "    sd = c(2.3, 2, 1, 1),\n",
    "    r = c(\n",
    "        1, 0.7, 0.68, 0.7,\n",
    "        0.7, 1, 0.7, 0.69,\n",
    "        0.68, 0.7, 1, 0.88,\n",
    "        0.7, 0.69, 0.88, 1\n",
    "    ),\n",
    "    varnames = c(\"A_LMM\", \"B_LMM\", \"A_CLMM\", \"B_CLMM\")\n",
    ") |>\n",
    "    as_tibble() |>\n",
    "    mutate(item_id = sprintf(\"word_%03d\", 1:n())) |>\n",
    "    select(item_id, everything())\n",
    "\n",
    "write_csv(results_wide, \"example_wide_res.csv\")"
   ]
  },
  {
   "cell_type": "code",
   "execution_count": null,
   "id": "5cd9ca99",
   "metadata": {
    "tags": [
     "remove-output"
    ],
    "vscode": {
     "languageId": "r"
    }
   },
   "outputs": [
    {
     "name": "stdout",
     "output_type": "stream",
     "text": [
      "\u001b[90m# A tibble: 100 x 5\u001b[39m\n",
      "   item_id   A_LMM  B_LMM  A_CLMM B_CLMM\n",
      "   \u001b[3m\u001b[90m<chr>\u001b[39m\u001b[23m     \u001b[3m\u001b[90m<dbl>\u001b[39m\u001b[23m  \u001b[3m\u001b[90m<dbl>\u001b[39m\u001b[23m   \u001b[3m\u001b[90m<dbl>\u001b[39m\u001b[23m  \u001b[3m\u001b[90m<dbl>\u001b[39m\u001b[23m\n",
      "\u001b[90m 1\u001b[39m word_001  0.647 -\u001b[31m1\u001b[39m\u001b[31m.\u001b[39m\u001b[31m0\u001b[39m\u001b[31m2\u001b[39m  -\u001b[31m0\u001b[39m\u001b[31m.\u001b[39m\u001b[31m198\u001b[39m  -\u001b[31m0\u001b[39m\u001b[31m.\u001b[39m\u001b[31m168\u001b[39m\n",
      "\u001b[90m 2\u001b[39m word_002  5.09   3.20  -\u001b[31m0\u001b[39m\u001b[31m.\u001b[39m\u001b[31m0\u001b[39m\u001b[31m24\u001b[4m1\u001b[24m\u001b[39m  0.397\n",
      "\u001b[90m 3\u001b[39m word_003  1.63   3.53  -\u001b[31m0\u001b[39m\u001b[31m.\u001b[39m\u001b[31m800\u001b[39m  -\u001b[31m0\u001b[39m\u001b[31m.\u001b[39m\u001b[31m821\u001b[39m\n",
      "\u001b[90m 4\u001b[39m word_004  3.43   0.839 -\u001b[31m1\u001b[39m\u001b[31m.\u001b[39m\u001b[31m98\u001b[39m   -\u001b[31m1\u001b[39m\u001b[31m.\u001b[39m\u001b[31m54\u001b[39m \n",
      "\u001b[90m 5\u001b[39m word_005  1.37   2.48   0.508   0.399\n",
      "\u001b[90m 6\u001b[39m word_006  3.12   2.79   0.691   0.662\n",
      "\u001b[90m 7\u001b[39m word_007 -\u001b[31m0\u001b[39m\u001b[31m.\u001b[39m\u001b[31m712\u001b[39m  0.477 -\u001b[31m0\u001b[39m\u001b[31m.\u001b[39m\u001b[31m920\u001b[39m  -\u001b[31m0\u001b[39m\u001b[31m.\u001b[39m\u001b[31m716\u001b[39m\n",
      "\u001b[90m 8\u001b[39m word_008  2.92   3.00   0.402   0.877\n",
      "\u001b[90m 9\u001b[39m word_009 -\u001b[31m1\u001b[39m\u001b[31m.\u001b[39m\u001b[31m30\u001b[39m  -\u001b[31m0\u001b[39m\u001b[31m.\u001b[39m\u001b[31m947\u001b[39m -\u001b[31m1\u001b[39m\u001b[31m.\u001b[39m\u001b[31m0\u001b[39m\u001b[31m1\u001b[39m   -\u001b[31m1\u001b[39m\u001b[31m.\u001b[39m\u001b[31m63\u001b[39m \n",
      "\u001b[90m10\u001b[39m word_010  3.20   2.96   0.142   0.130\n",
      "\u001b[90m# i 90 more rows\u001b[39m\n"
     ]
    }
   ],
   "source": [
    "library(readr)\n",
    "library(cocor)\n",
    "\n",
    "results_wide <- read_csv(\"https://raw.githubusercontent.com/JackEdTaylor/expra-wise24/master/lecture/introduction/example_wide_res.csv\")\n",
    "\n",
    "print(results_wide)"
   ]
  },
  {
   "cell_type": "code",
   "execution_count": null,
   "id": "1e6b92a8",
   "metadata": {
    "tags": [
     "remove-input"
    ],
    "vscode": {
     "languageId": "r"
    }
   },
   "outputs": [],
   "source": [
    "print(results_wide)"
   ]
  },
  {
   "cell_type": "markdown",
   "id": "a74e5c38",
   "metadata": {},
   "source": [
    "Notice that the data are in wide format - we have all the estimates for each item in separate columns, and one row per item. This is important, as `cocor()` will use this to detect which kind of correlation comparison it should use. We want it to know that these estimates refer to the same items.\n",
    "\n",
    "Remember that we can check the correlation matrix like so:"
   ]
  },
  {
   "cell_type": "code",
   "execution_count": null,
   "id": "4bcbe769",
   "metadata": {
    "tags": [
     "remove-output"
    ],
    "vscode": {
     "languageId": "r"
    }
   },
   "outputs": [
    {
     "data": {
      "text/html": [
       "<table class=\"dataframe\">\n",
       "<caption>A matrix: 4 × 4 of type dbl</caption>\n",
       "<thead>\n",
       "\t<tr><th></th><th scope=col>A_LMM</th><th scope=col>B_LMM</th><th scope=col>A_CLMM</th><th scope=col>B_CLMM</th></tr>\n",
       "</thead>\n",
       "<tbody>\n",
       "\t<tr><th scope=row>A_LMM</th><td>1.0000000</td><td>0.7749739</td><td>0.6803930</td><td>0.6803572</td></tr>\n",
       "\t<tr><th scope=row>B_LMM</th><td>0.7749739</td><td>1.0000000</td><td>0.7273935</td><td>0.7014971</td></tr>\n",
       "\t<tr><th scope=row>A_CLMM</th><td>0.6803930</td><td>0.7273935</td><td>1.0000000</td><td>0.9012779</td></tr>\n",
       "\t<tr><th scope=row>B_CLMM</th><td>0.6803572</td><td>0.7014971</td><td>0.9012779</td><td>1.0000000</td></tr>\n",
       "</tbody>\n",
       "</table>\n"
      ],
      "text/latex": [
       "A matrix: 4 × 4 of type dbl\n",
       "\\begin{tabular}{r|llll}\n",
       "  & A\\_LMM & B\\_LMM & A\\_CLMM & B\\_CLMM\\\\\n",
       "\\hline\n",
       "\tA\\_LMM & 1.0000000 & 0.7749739 & 0.6803930 & 0.6803572\\\\\n",
       "\tB\\_LMM & 0.7749739 & 1.0000000 & 0.7273935 & 0.7014971\\\\\n",
       "\tA\\_CLMM & 0.6803930 & 0.7273935 & 1.0000000 & 0.9012779\\\\\n",
       "\tB\\_CLMM & 0.6803572 & 0.7014971 & 0.9012779 & 1.0000000\\\\\n",
       "\\end{tabular}\n"
      ],
      "text/markdown": [
       "\n",
       "A matrix: 4 × 4 of type dbl\n",
       "\n",
       "| <!--/--> | A_LMM | B_LMM | A_CLMM | B_CLMM |\n",
       "|---|---|---|---|---|\n",
       "| A_LMM | 1.0000000 | 0.7749739 | 0.6803930 | 0.6803572 |\n",
       "| B_LMM | 0.7749739 | 1.0000000 | 0.7273935 | 0.7014971 |\n",
       "| A_CLMM | 0.6803930 | 0.7273935 | 1.0000000 | 0.9012779 |\n",
       "| B_CLMM | 0.6803572 | 0.7014971 | 0.9012779 | 1.0000000 |\n",
       "\n"
      ],
      "text/plain": [
       "       A_LMM     B_LMM     A_CLMM    B_CLMM   \n",
       "A_LMM  1.0000000 0.7749739 0.6803930 0.6803572\n",
       "B_LMM  0.7749739 1.0000000 0.7273935 0.7014971\n",
       "A_CLMM 0.6803930 0.7273935 1.0000000 0.9012779\n",
       "B_CLMM 0.6803572 0.7014971 0.9012779 1.0000000"
      ]
     },
     "metadata": {},
     "output_type": "display_data"
    }
   ],
   "source": [
    "results_wide |>\n",
    "  # remove non-numeric variable\n",
    "  select(-item_id) |>\n",
    "  # get correlation matrix\n",
    "  cor()"
   ]
  },
  {
   "cell_type": "code",
   "execution_count": null,
   "id": "c092e02b",
   "metadata": {
    "tags": [
     "remove-input"
    ],
    "vscode": {
     "languageId": "r"
    }
   },
   "outputs": [
    {
     "name": "stdout",
     "output_type": "stream",
     "text": [
      "           A_LMM     B_LMM    A_CLMM    B_CLMM\n",
      "A_LMM  1.0000000 0.7749739 0.6803930 0.6803572\n",
      "B_LMM  0.7749739 1.0000000 0.7273935 0.7014971\n",
      "A_CLMM 0.6803930 0.7273935 1.0000000 0.9012779\n",
      "B_CLMM 0.6803572 0.7014971 0.9012779 1.0000000\n"
     ]
    }
   ],
   "source": [
    "results_wide |>\n",
    "  select(-item_id) |>\n",
    "  cor() |>\n",
    "  print()"
   ]
  },
  {
   "cell_type": "markdown",
   "id": "a9be8943",
   "metadata": {},
   "source": [
    "A_LMM and B_LMM have a correlation of r = .77.\n",
    "\n",
    "A_CLMM and B_CLMM have a correlation of r = .9.\n",
    "\n",
    "<br>\n",
    "\n",
    "\n",
    "## Using `cocor()`\n",
    "\n",
    "We can use `cocor()` to see whether the sizes of these correlations differ to an extent that we can consider statistically significant.\n",
    "\n",
    "#### Notes on syntax:\n",
    "\n",
    "The syntax for `cocor()` formulas:\n",
    "* Starts with a `~`\n",
    "* Has the first correlation as `var_1 + var_2`\n",
    "* Uses a `|` symbol to say separate the correlations that should be compared\n",
    "* Has the second correlation as `var_3 + var_4`\n",
    "\n",
    "#### Notes on bugs\n",
    "\n",
    "When you specify `data = my_data_frame`, you may have to explicitly tell the function that the data is a dataframe, with `data.frame(my_data_frame)`. This is because `cocor` doesn't recognise `tidyverse` tibbles as dataframes.\n",
    "\n",
    "#### Example Usage"
   ]
  },
  {
   "cell_type": "code",
   "execution_count": null,
   "id": "ccdcf9c7",
   "metadata": {
    "vscode": {
     "languageId": "r"
    }
   },
   "outputs": [
    {
     "data": {
      "text/plain": [
       "\n",
       "  Results of a comparison of two nonoverlapping correlations based on dependent groups\n",
       "\n",
       "Comparison between r.jk (A_LMM, B_LMM) = 0.775 and r.hm (A_CLMM, B_CLMM) = 0.9013\n",
       "Difference: r.jk - r.hm = -0.1263\n",
       "Related correlations: r.jh = 0.6804, r.jm = 0.6804, r.kh = 0.7274, r.km = 0.7015\n",
       "Data: data.frame(results_wide): j = A_LMM, k = B_LMM, h = A_CLMM, m = B_CLMM\n",
       "Group size: n = 100\n",
       "Null hypothesis: r.jk is equal to r.hm\n",
       "Alternative hypothesis: r.jk is not equal to r.hm (two-sided)\n",
       "Alpha: 0.05\n",
       "\n",
       "pearson1898: Pearson and Filon's z (1898)\n",
       "  z = -3.2476, p-value = 0.0012\n",
       "  Null hypothesis rejected\n",
       "\n",
       "dunn1969: Dunn and Clark's z (1969)\n",
       "  z = -3.6893, p-value = 0.0002\n",
       "  Null hypothesis rejected\n",
       "\n",
       "steiger1980: Steiger's (1980) modification of Dunn and Clark's z (1969) using average correlations\n",
       "  z = -3.6859, p-value = 0.0002\n",
       "  Null hypothesis rejected\n",
       "\n",
       "raghunathan1996: Raghunathan, Rosenthal, and Rubin's (1996) modification of Pearson and Filon's z (1898)\n",
       "  z = -3.6893, p-value = 0.0002\n",
       "  Null hypothesis rejected\n",
       "\n",
       "silver2004: Silver, Hittner, and May's (2004) modification of Dunn and Clark's z (1969) using a backtransformed average Fisher's (1921) Z procedure\n",
       "  z = -3.6774, p-value = 0.0002\n",
       "  Null hypothesis rejected\n",
       "\n",
       "zou2007: Zou's (2007) confidence interval\n",
       "  95% confidence interval for r.jk - r.hm: -0.2150 -0.0565\n",
       "  Null hypothesis rejected (Interval does not include 0)\n"
      ]
     },
     "metadata": {},
     "output_type": "display_data"
    }
   ],
   "source": [
    "cocor(\n",
    "    ~ A_LMM + B_LMM | A_CLMM + B_CLMM,\n",
    "    data = data.frame(results_wide)\n",
    ")"
   ]
  },
  {
   "cell_type": "markdown",
   "id": "d012ce3d",
   "metadata": {},
   "source": [
    "This gives us several estimates of whether the correlation is significantly larger for CLMMs than for LMMs. The estimates are usually likely to be similar for the different methods. For the ExPra, if you didn't preregister which comparison you would use, then Pearson and Filon's z (1898) will usually suffice.\n",
    "\n",
    "#### How to Report\n",
    "\n",
    "We could report this as:\n",
    "\n",
    "> We found that the correlation between item estimates from group A and group B was larger for the CLMMs (*r* = 9) than it was for the LMMs (*r* = .77). Comparing the size of these correlations with Pearson and Filon's (1898) *z* value method revealed that the correlation between the CLMMs was significantly larger than the correlation between the LMMs (*z* = -3.25, *p* = .001)."
   ]
  }
 ],
 "metadata": {
  "kernelspec": {
   "display_name": "R",
   "language": "R",
   "name": "ir"
  },
  "language_info": {
   "codemirror_mode": "r",
   "file_extension": ".r",
   "mimetype": "text/x-r-source",
   "name": "R",
   "pygments_lexer": "r",
   "version": "4.1.3"
  }
 },
 "nbformat": 4,
 "nbformat_minor": 5
}
