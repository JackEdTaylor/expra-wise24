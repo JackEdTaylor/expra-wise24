{
 "cells": [
  {
   "cell_type": "markdown",
   "id": "34e9fb44",
   "metadata": {},
   "source": [
    "# Model Appropriateness\n",
    "\n",
    "One of the key themes we want to encourage you to think about is **model appropriateness**. In this example, we will take a look at sine waves. Sine waves are very relevant to much of Psychology and Neuroscience - for example in describing [neural oscillations](https://en.wikipedia.org/wiki/Neural_oscillation).\n",
    "\n",
    "## What the heck is a sine wave?\n",
    "\n",
    "Sine waves are described by three main parameters:\n",
    "* *Amplitude (or \"Power\")* - you could think of this as \"loudness\"\n",
    "* *Frequency* - you could think of this as \"pitch\", or the tempo of a repetitive beat\n",
    "* *Phase* - you could think of this as shift in the timing of beats (how soon after 0 is the first beat?)\n",
    "\n",
    "<img src=\"power.gif\" onerror=\"this.onerror=null; this.src='https://raw.githubusercontent.com/JackEdTaylor/expra-wise24/master/lecture/introduction/power.gif';\" class=\".float-right\" width=\"250px\">\n",
    "\n",
    "<img src=\"frequency.gif\" onerror=\"this.onerror=null; this.src='https://raw.githubusercontent.com/JackEdTaylor/expra-wise24/master/lecture/introduction/frequency.gif';\" class=\".float-right\" width=\"250px\">\n",
    "\n",
    "<img src=\"phase.gif\" onerror=\"this.onerror=null; this.src='https://raw.githubusercontent.com/JackEdTaylor/expra-wise24/master/lecture/introduction/phase.gif';\" class=\".float-right\" width=\"250px\">\n",
    "\n",
    "Don't worry if this is all new! In fact, in this example, we're going to simplify things a bit and **focus on amplitude (power)**...\n",
    "\n",
    "## Our example analysis\n",
    "\n",
    "Let's use an example where we pretend we know the phase and frequency. Instead we'll focus on **amplitude (power)** and **offset from zero (an intercept)**. To make things tricky, let's pretend that our device is very noisy - every time we take a measurement, there will be some unknown **noise** that we want to try to account for.\n",
    "\n",
    "<img src=\"model_appropriateness_amplitude.gif\" onerror=\"this.onerror=null; this.src='https://raw.githubusercontent.com/JackEdTaylor/expra-wise24/master/lecture/introduction/model_appropriateness_amplitude.gif';\" class=\".float-right\" width=\"250px\">\n",
    "\n",
    "<img src=\"model_appropriateness_offset.gif\" onerror=\"this.onerror=null; this.src='https://raw.githubusercontent.com/JackEdTaylor/expra-wise24/master/lecture/introduction/model_appropriateness_offset.gif';\" class=\".float-right\" width=\"250px\">\n",
    "\n",
    "<img src=\"model_appropriateness_noise.gif\" onerror=\"this.onerror=null; this.src='https://raw.githubusercontent.com/JackEdTaylor/expra-wise24/master/lecture/introduction/model_appropriateness_offset.gif';\" class=\".float-right\" width=\"250px\">\n",
    "\n",
    "We'll show that a simple linear model is inappropriate for describing data that records an oscillation, but that a more appropriate model can describe these data much better.\n",
    "\n",
    "### 1: Generate the Data\n",
    "\n",
    "First of all, we need to generate the data we will use. We will also be using the packages `tibble` and `ggplot2`, so make sure these are loaded!"
   ]
  },
  {
   "cell_type": "code",
   "execution_count": 1,
   "id": "8d6a0e92",
   "metadata": {
    "tags": [
     "remove-input"
    ],
    "vscode": {
     "languageId": "r"
    }
   },
   "outputs": [],
   "source": [
    "options(repr.plot.width=3.5, repr.plot.height=3)"
   ]
  },
  {
   "cell_type": "code",
   "execution_count": 2,
   "id": "165b6408",
   "metadata": {
    "tags": [],
    "vscode": {
     "languageId": "r"
    }
   },
   "outputs": [],
   "source": [
    "# import libraries\n",
    "library(tibble)\n",
    "library(ggplot2)\n",
    "\n",
    "# set ggplot2 theme\n",
    "theme_set(theme_classic())\n",
    "\n",
    "# set a seed for reproducibility\n",
    "set.seed(999)"
   ]
  },
  {
   "cell_type": "markdown",
   "id": "680aa4fb",
   "metadata": {},
   "source": [
    "Here we generate 250 observations from a Sine wave, with amplitude of 3.7 and with normally distributed noise of SD=1. We'll also offset the sine wave from 0, by 2.3."
   ]
  },
  {
   "cell_type": "code",
   "execution_count": 3,
   "id": "a7226fcb",
   "metadata": {
    "scrolled": true,
    "vscode": {
     "languageId": "r"
    }
   },
   "outputs": [
    {
     "data": {
      "image/png": "[encoded data removed]",
      "text/plain": [
       "plot without title"
      ]
     },
     "metadata": {
      "image/png": {
       "height": 180,
       "width": 210
      }
     },
     "output_type": "display_data"
    }
   ],
   "source": [
    "n <- 250  # number of observations\n",
    "amplitude <- 3.7  # amplitude of the sine wave\n",
    "offset <- 2.3  # offset from 0\n",
    "noise_sd <- 1  # SD of noise\n",
    "\n",
    "data <- tibble(\n",
    "  # randomly sample x values from 0 to 25\n",
    "  x = runif(n=n, min=0, max=25),\n",
    "  # generate the perfect sine wave\n",
    "  s = offset + amplitude * sin(x),\n",
    "  # generate random noise of desired sd\n",
    "  e = rnorm(n=n, mean=0, sd=noise_sd),\n",
    "  # add the sine wave to the noise to simulate observations\n",
    "  y = s + e\n",
    ")\n",
    "\n",
    "# plot the observations\n",
    "ggplot(data, aes(x, y)) +\n",
    "  geom_point()"
   ]
  },
  {
   "cell_type": "markdown",
   "id": "350927fb",
   "metadata": {},
   "source": [
    "This shows that the pattern is clearly non-random - there is an obvious relationship between x and y."
   ]
  },
  {
   "cell_type": "markdown",
   "id": "b353e47c",
   "metadata": {},
   "source": [
    "### 2: Try a Simple Linear Model / Pearson Correlation\n",
    "\n",
    "Let's get the Pearson correlation coefficient for our data."
   ]
  },
  {
   "cell_type": "code",
   "execution_count": 4,
   "id": "e3e4ebe1",
   "metadata": {
    "vscode": {
     "languageId": "r"
    }
   },
   "outputs": [
    {
     "data": {
      "text/html": [
       "-0.0921077194806694"
      ],
      "text/latex": [
       "-0.0921077194806694"
      ],
      "text/markdown": [
       "-0.0921077194806694"
      ],
      "text/plain": [
       "[1] -0.09210772"
      ]
     },
     "metadata": {},
     "output_type": "display_data"
    }
   ],
   "source": [
    "# get the Pearson's correlation\n",
    "cor(data$x, data$y)"
   ]
  },
  {
   "cell_type": "markdown",
   "id": "17c37dfb",
   "metadata": {},
   "source": [
    "The Pearson's correlation is very close to zero - why do you think that is?\n",
    "\n",
    "The Pearson's correlation is based on a linear model. Here is what that looks like using the `lm()` function:"
   ]
  },
  {
   "cell_type": "code",
   "execution_count": 5,
   "id": "f1fe55bb",
   "metadata": {
    "vscode": {
     "languageId": "r"
    }
   },
   "outputs": [
    {
     "data": {
      "text/plain": [
       "\n",
       "Call:\n",
       "lm(formula = y ~ x, data = data)\n",
       "\n",
       "Coefficients:\n",
       "(Intercept)            x  \n",
       "    2.99752     -0.03492  \n"
      ]
     },
     "metadata": {},
     "output_type": "display_data"
    }
   ],
   "source": [
    "lm(y ~ x, data=data)"
   ]
  },
  {
   "cell_type": "markdown",
   "id": "dc6cc348",
   "metadata": {},
   "source": [
    "The estimate for the `Intercept`, of about 3, is very roughly approximating our `offset` of 2.3. `x` is an estimate for a linear slope.\n",
    "\n",
    "To better understand this, we can also visualise the linear relationship that the Pearson's correlation is based on..."
   ]
  },
  {
   "cell_type": "code",
   "execution_count": 6,
   "id": "9bcd0b1d",
   "metadata": {
    "vscode": {
     "languageId": "r"
    }
   },
   "outputs": [
    {
     "data": {
      "image/png": "[encoded data removed]",
      "text/plain": [
       "plot without title"
      ]
     },
     "metadata": {
      "image/png": {
       "height": 180,
       "width": 210
      }
     },
     "output_type": "display_data"
    }
   ],
   "source": [
    "# superimpose the simple linear model\n",
    "ggplot(data, aes(x, y)) +\n",
    "  geom_point() +\n",
    "  geom_smooth(method=\"lm\", formula=y~x)"
   ]
  },
  {
   "cell_type": "markdown",
   "id": "e6964f2f",
   "metadata": {},
   "source": [
    "Clearly, a simple Pearson's correlation, and the associated simple linear model, are completely inappropriate in this case! It's missing important information that we know about the data.\n",
    "\n",
    "One solution could be to use a measure of association that makes minimal assumptions about the nature of the relationship. For example, we could use [mutual information](https://en.wikipedia.org/wiki/Mutual_information) to quantify the degree to which we learn information about one variable by observing the other. If you're interested in trying out mutual information, you might want to try the R package [`infotheo`](https://cran.r-project.org/web/packages/infotheo/index.html).\n",
    "\n",
    "**However, a better approach may be to fit a more specific model**, which allows us to incorporate our knowledge about how the data were generated - via a sine function."
   ]
  },
  {
   "cell_type": "markdown",
   "id": "7b740dff",
   "metadata": {},
   "source": [
    "### 3: Fit a more Appropriate Model\n",
    "\n",
    "If we happen know that a the data is generated from a sine function with a certain amplitude, we could fit a model that accounts for this. Here, instead of `y ~ x`, our formula would be `y ~ sin(x)`"
   ]
  },
  {
   "cell_type": "code",
   "execution_count": 7,
   "id": "7e0045d9",
   "metadata": {
    "vscode": {
     "languageId": "r"
    }
   },
   "outputs": [
    {
     "data": {
      "image/png": "[encoded data removed]",
      "text/plain": [
       "plot without title"
      ]
     },
     "metadata": {
      "image/png": {
       "height": 180,
       "width": 210
      }
     },
     "output_type": "display_data"
    }
   ],
   "source": [
    "ggplot(data, aes(x, y)) +\n",
    "  geom_point() +\n",
    "  geom_smooth(method=\"lm\", formula = y ~ sin(x))"
   ]
  },
  {
   "cell_type": "markdown",
   "id": "61eca505",
   "metadata": {},
   "source": [
    "This is looking like a much better description of the data!\n",
    "\n",
    "Here is what the `lm()` output looks like."
   ]
  },
  {
   "cell_type": "code",
   "execution_count": 8,
   "id": "06151117",
   "metadata": {
    "scrolled": true,
    "vscode": {
     "languageId": "r"
    }
   },
   "outputs": [
    {
     "data": {
      "text/plain": [
       "\n",
       "Call:\n",
       "lm(formula = y ~ sin(x), data = data)\n",
       "\n",
       "Coefficients:\n",
       "(Intercept)       sin(x)  \n",
       "      2.278        3.711  \n"
      ]
     },
     "metadata": {},
     "output_type": "display_data"
    }
   ],
   "source": [
    "lm(y ~ sin(x), data=data)"
   ]
  },
  {
   "cell_type": "markdown",
   "id": "3395d1bb",
   "metadata": {},
   "source": [
    "How cool! Notice that this model is now able to estimate our parameters from before!\n",
    "\n",
    "* The `Intercept` estimates our offset parameter of 2.3\n",
    "* The `sin(x)` part estimates our amplitude of 3.7\n",
    "\n",
    "If we wanted to, we could also calculate an equivalent of the Pearson's correlation for this more appropriate model, which is much better at capturing the strength of the clear relationship that we can see in the data."
   ]
  },
  {
   "cell_type": "code",
   "execution_count": 9,
   "id": "2dd1bbef",
   "metadata": {
    "vscode": {
     "languageId": "r"
    }
   },
   "outputs": [
    {
     "data": {
      "text/html": [
       "0.940673515786082"
      ],
      "text/latex": [
       "0.940673515786082"
      ],
      "text/markdown": [
       "0.940673515786082"
      ],
      "text/plain": [
       "[1] 0.9406735"
      ]
     },
     "metadata": {},
     "output_type": "display_data"
    }
   ],
   "source": [
    "cor(sin(data$x), data$y)"
   ]
  },
  {
   "cell_type": "markdown",
   "id": "3bc2c4de",
   "metadata": {},
   "source": [
    "### 4: Test your Understanding!\n",
    "\n",
    "**a**) Try changing the `noise_sd` parameter - what happens to your estimates in the last section as you increase and decrease this parameter? What happens when you change the `amplitude` parameter?\n",
    "\n",
    "**b**) Calculate the Akaike Information Criteria (AICs) for the two models using the `AIC()` or the `summary()` function. How do the AICs compare? How can you interpret this?\n",
    "\n",
    "**c**) Would this work for a cosine too? Try to change the code above to simulate and estimate data from a cosine function.\n",
    "\n",
    "**d**) Can you rewrite the code to use the following transformations? `log()`, `exp()`, exponentiation using `^`. Any more transformations can think of?\n",
    "\n",
    "**e**) **Tricky**: Create a new variable in *Step 1.*, called `ls` (standing for linear slope), and set it to a value of your choice (I recommend picking a number between -2 and 2). Now, change the formula in the simulation in *Step 1.* from `y = s + e` to `y = s + ls * x + e`. Try running the code in the later sections. Can you figure out a way to alter the code in *Step 3.* to estimate all the values for `offset`, `amplitude`, and `ls`?\n",
    "\n",
    "<br>\n",
    "\n",
    "<img src=\"linearmodel.jpg\" onerror=\"this.onerror=null; this.src='https://raw.githubusercontent.com/JackEdTaylor/expra-wise24/master/lecture/introduction/linearmodel.jpg';\" width=\"350px\">"
   ]
  }
 ],
 "metadata": {
  "kernelspec": {
   "display_name": "R",
   "language": "R",
   "name": "ir"
  },
  "language_info": {
   "codemirror_mode": "r",
   "file_extension": ".r",
   "mimetype": "text/x-r-source",
   "name": "R",
   "pygments_lexer": "r",
   "version": "4.1.3"
  }
 },
 "nbformat": 4,
 "nbformat_minor": 5
}
